{
 "cells": [
  {
   "cell_type": "code",
   "execution_count": null,
   "metadata": {},
   "outputs": [],
   "source": [
    "import requests\n",
    "from pathlib import Path\n",
    "from argparse import ArgumentParser\n",
    "from pygame import mixer\n",
    "from reachy_sdk import ReachySDK\n",
    "from reachy_sdk.trajectory import goto\n",
    "from reachy_sdk.trajectory import InterpolationMode\n",
    "import time\n",
    "import speech_recognition as sr\n",
    "import winsound\n",
    "import re\n",
    "from twilio.rest import Client\n",
    "from twilio.twiml.voice_response import VoiceResponse\n",
    "import cv2 as cv\n",
    "import os\n",
    "import discord\n",
    "import asyncio\n",
    "import nest_asyncio"
   ]
  },
  {
   "cell_type": "code",
   "execution_count": null,
   "metadata": {},
   "outputs": [],
   "source": [
    "def play_sound(location:str): # use local .mp3 file for Reachy speak\n",
    "    file = Path(f\"sound/{location}\").absolute()\n",
    "    mixer.init()\n",
    "    mixer.music.load(file)\n",
    "    mixer.music.play()\n",
    "    while mixer.music.get_busy():\n",
    "        pass\n",
    "    mixer.music.stop()"
   ]
  },
  {
   "cell_type": "code",
   "execution_count": null,
   "metadata": {},
   "outputs": [],
   "source": [
    "def create_sound(word:str,location:str): #create the .mp3 file in the local\n",
    "    url = f'https://fanyi.baidu.com/gettts?lan=cte&text={word}&spd=5&source=web'\n",
    "    file = Path(location).absolute()\n",
    "    with file.open('wb') as f:\n",
    "        f.write(requests.get(url).content)\n"
   ]
  },
  {
   "cell_type": "code",
   "execution_count": null,
   "metadata": {},
   "outputs": [],
   "source": [
    "def record(): # get the sound from user\n",
    "    recognizer = sr.Recognizer()\n",
    "    microphone = sr.Microphone()\n",
    "    ## get sound \n",
    "    try:\n",
    "        with microphone as mic:\n",
    "            winsound.Beep(1000,1000)\n",
    "            recognizer.adjust_for_ambient_noise(mic)\n",
    "            sound = recognizer.listen(mic)\n",
    "    except:\n",
    "        play_sound(\"no_sound.mp3\")\n",
    "    ## sound change to text  \n",
    "    try:\n",
    "        text=recognizer.recognize_google(sound, language='zh-hk')  # language choose Hong Kong language\n",
    "    except:\n",
    "        pass\n",
    "        #play_sound(\"no_sound.mp3\")\n",
    "    return text"
   ]
  },
  {
   "cell_type": "code",
   "execution_count": null,
   "metadata": {},
   "outputs": [],
   "source": [
    "def find_keyword(text:str,keyword):\n",
    "    if type(keyword) == list:\n",
    "        terms = [re.compile(term) \n",
    "                for term in keyword] \n",
    "        for term in terms:    \n",
    "            if term.search(text): \n",
    "                return True \n",
    "        return False\n",
    "    if type(keyword) == str:\n",
    "        terms = re.compile(keyword)\n",
    "        if terms.search(text):\n",
    "            return True \n",
    "        return False\n"
   ]
  },
  {
   "cell_type": "code",
   "execution_count": null,
   "metadata": {},
   "outputs": [],
   "source": [
    "def get_action(location:str):\n",
    "    file = Path(location).absolute()\n",
    "    with file.open('r') as f:\n",
    "        action = f.readlines()\n",
    "    return eval(action[0])"
   ]
  },
  {
   "cell_type": "code",
   "execution_count": null,
   "metadata": {},
   "outputs": [],
   "source": [
    "def record_do(name,action_time):\n",
    "    recorded_joints_right = [\n",
    "        reachy.r_arm.r_shoulder_pitch,\n",
    "        reachy.r_arm.r_shoulder_roll,\n",
    "        reachy.r_arm.r_arm_yaw,\n",
    "        reachy.r_arm.r_elbow_pitch,\n",
    "        reachy.r_arm.r_forearm_yaw,\n",
    "        reachy.r_arm.r_wrist_pitch,\n",
    "        reachy.r_arm.r_wrist_roll,\n",
    "        reachy.r_arm.r_gripper,\n",
    "    ]\n",
    "    recorded_joints_left = [\n",
    "        reachy.l_arm.l_shoulder_pitch,\n",
    "        reachy.l_arm.l_shoulder_roll,\n",
    "        reachy.l_arm.l_arm_yaw,\n",
    "        reachy.l_arm.l_elbow_pitch,\n",
    "        reachy.l_arm.l_forearm_yaw,\n",
    "        reachy.l_arm.l_wrist_pitch,\n",
    "        reachy.l_arm.l_wrist_roll,\n",
    "        reachy.l_arm.l_gripper,\n",
    "    ]\n",
    "    sampling_frequency = 100  # in Hz\n",
    "    record_duration = action_time  # in sec.\n",
    "    #reset place\n",
    "    # Set all used joint stiff\n",
    "    for joint in recorded_joints_left + recorded_joints_right:\n",
    "        joint.compliant = False\n",
    "    left = name[0]\n",
    "    right = name[1]\n",
    "    # Create a dict associating a joint to its first recorded position\n",
    "    first_point_right = dict(zip(recorded_joints_right, right[0]))\n",
    "    first_point_left = dict(zip(recorded_joints_left, left[0]))\n",
    "    first_point = {**first_point_left, **first_point_right}\n",
    "\n",
    "    # Goes to the start of the trajectory in 3s\n",
    "    goto(first_point, duration=3.0)\n",
    "\n",
    "    for joints_positions_left, joints_positions_right in zip(left, right):\n",
    "        for joint_left, pos_left, joint_right, pos_right in zip(recorded_joints_left, joints_positions_left, recorded_joints_right, joints_positions_right):\n",
    "            joint_left.goal_position = pos_left\n",
    "            joint_right.goal_position = pos_right\n",
    "\n",
    "        time.sleep(1 / sampling_frequency)\n",
    "    reachy.turn_off_smoothly('r_arm')\n",
    "    reachy.turn_off_smoothly('l_arm')"
   ]
  },
  {
   "cell_type": "code",
   "execution_count": null,
   "metadata": {},
   "outputs": [],
   "source": [
    "def get_file_name(file_name,time):\n",
    "    name = list()\n",
    "    name.append(get_action(f\"user_control/action/{file_name}_left.txt\"))\n",
    "    name.append(get_action(f\"user_control/action/{file_name}_right.txt\"))\n",
    "    record_do(name,time)   "
   ]
  },
  {
   "cell_type": "code",
   "execution_count": null,
   "metadata": {},
   "outputs": [],
   "source": [
    "def answer_yes_no(order,reachy_action):\n",
    "    yes = False\n",
    "    text = record()\n",
    "    order_yes = ['係']\n",
    "    yes = find_keyword(text,order_yes)\n",
    "    if yes == True:\n",
    "        get_file_name(reachy_action[order][0],reachy_action[order][1])\n",
    "    else:\n",
    "        play_sound(\"not_have_keyword.mp3\")"
   ]
  },
  {
   "cell_type": "code",
   "execution_count": null,
   "metadata": {},
   "outputs": [],
   "source": [
    "def call_phone():\n",
    "    # Your Account SID from twilio.com/console\n",
    "    account_sid = 'your ID'\n",
    "    # Your Auth Token from twilio.com/console\n",
    "    auth_token  = 'your ID'\n",
    "\n",
    "    client = Client(account_sid, auth_token)\n",
    "\n",
    "    twiml = VoiceResponse()\n",
    "    twiml.say('你好，我係你屋企嘅智能機器人，依家陳伯身體覺得好唔舒服，請你睇一睇信息，我哋已經傳送咗一張陳伯嘅圖片畀你，請你判斷一下有冇需要報警。') \n",
    "\n",
    "\n",
    "    call = client.calls.create(\n",
    "        from_='+your phone',\n",
    "        to='+your phone',\n",
    "        twiml=str(twiml),\n",
    "    )"
   ]
  },
  {
   "cell_type": "code",
   "execution_count": null,
   "metadata": {},
   "outputs": [],
   "source": [
    "def chatbot(reachy_action, text, type):\n",
    "    ##chatbot\n",
    "    phone = find_keyword(text,'打電話')\n",
    "    if phone:\n",
    "        return True\n",
    "    else:\n",
    "        true_false_keyword = list()\n",
    "        for i in range (len(reachy_action)):\n",
    "            true_false_keyword.append(find_keyword(text,reachy_action[i][2]))\n",
    "        print(true_false_keyword)\n",
    "        if true_false_keyword.count(True) > 1: #more than 1 keyword\n",
    "            play_sound(\"unsupport.mp3\")\n",
    "        if true_false_keyword.count(True) == 1: #1 keyword\n",
    "            for i in range (len(true_false_keyword)):\n",
    "                if true_false_keyword[i] == True:\n",
    "                    if type == \"record\":\n",
    "                        play_sound(f\"repert{i}.mp3\")\n",
    "                        answer_yes_no(i,reachy_action)\n",
    "                    if type == \"text\":\n",
    "                        get_file_name(reachy_action[i][0],reachy_action[i][1])\n",
    "        if true_false_keyword.count(True) == 0: #0 keyword\n",
    "            play_sound(\"not_have_keyword.mp3\")"
   ]
  },
  {
   "cell_type": "code",
   "execution_count": null,
   "metadata": {},
   "outputs": [],
   "source": [
    "def read_reachy_action(location:str):\n",
    "    f = open(location, \"r\",encoding=\"utf-8\")\n",
    "    data = f.readline()\n",
    "    return eval(data)"
   ]
  },
  {
   "cell_type": "code",
   "execution_count": null,
   "metadata": {},
   "outputs": [],
   "source": [
    "def create_sound_list(reachy_action:list):\n",
    "    welcome = list()\n",
    "    keyword_name = str()\n",
    "    for i in range (len(reachy_action)):\n",
    "        if type(reachy_action[i][2]) == list:\n",
    "            welcome.append(reachy_action[i][2][0])\n",
    "        if type(reachy_action[i][2]) == str:\n",
    "            welcome.append(reachy_action[i][2])\n",
    "    for i in range (len(welcome)):\n",
    "        keyword_name = keyword_name + str(welcome[i])+\",\"\n",
    "\n",
    "    sound_list = [[\"歡迎光臨,我哋呢度提供\"+keyword_name+\"請問你要邊一個?\",\"sound/welcome.mp3\"],\n",
    "              [\"唔好意思我哋依家淨係支援一次叫一個動作.請重新再講下你嘅要求.\",\"sound/unsupport.mp3\"],\n",
    "              [\"唔好意思,我哋呢邊接收唔到你嘅指令.請重新再講過你嘅要求\",\"sound/not_have_keyword.mp3\"],\n",
    "              [\"呢度冇接收到任何嘅聲音.請檢查一下麥克風.\",\"sound/no_sound.mp3\"],\n",
    "              [\"已經幫你打咗電話啦\",\"sound/called.mp3\"]]\n",
    "    for i in range (len(welcome)):\n",
    "        sound_list.append([f\"呢邊再重複一下你嘅要求.你要{welcome[i]}.如果係嘅話請講係.\",f\"sound/repert{i}.mp3\"])\n",
    "    return sound_list"
   ]
  },
  {
   "cell_type": "code",
   "execution_count": null,
   "metadata": {},
   "outputs": [],
   "source": [
    "def get_ip(location:str):\n",
    "    file = Path(location).absolute()\n",
    "    with file.open('r') as f:\n",
    "        ip = f.readlines()\n",
    "    return ip[0]"
   ]
  },
  {
   "cell_type": "code",
   "execution_count": null,
   "metadata": {},
   "outputs": [],
   "source": [
    "def get_text(location:str):\n",
    "    f = open(location,\"r\",encoding=\"utf-8\")\n",
    "    text = f.readlines()\n",
    "    return text[0]"
   ]
  },
  {
   "cell_type": "code",
   "execution_count": null,
   "metadata": {},
   "outputs": [],
   "source": [
    "reachy_action = read_reachy_action(\"user_control/reachy_action.txt\")\n",
    "sound_list = create_sound_list(reachy_action)\n",
    "for i in range (len(sound_list)):\n",
    "    create_sound(sound_list[i][0],sound_list[i][1])"
   ]
  },
  {
   "cell_type": "code",
   "execution_count": null,
   "metadata": {},
   "outputs": [],
   "source": [
    "reachy_ip = get_ip(\"user_control/reachy_ip.txt\")\n",
    "reachy = ReachySDK(host=reachy_ip) # replace with correct IP in file \"user_control/reachy_ip.txt\""
   ]
  },
  {
   "cell_type": "code",
   "execution_count": null,
   "metadata": {},
   "outputs": [],
   "source": [
    "#record\n",
    "play_sound(\"welcome.mp3\")\n",
    "text = record()  # for input in record\n",
    "send = chatbot(reachy_action,text,\"record\")\n",
    "if send:\n",
    "    img = reachy.right_camera.last_frame\n",
    "    cv.imwrite('savedimage.jpg', img) \n",
    "    nest_asyncio.apply()\n",
    "    intents = discord.Intents.default()\n",
    "    intents.members = True\n",
    "    client = discord.Client(intents=intents)\n",
    "\n",
    "    @client.event\n",
    "    async def on_ready():\n",
    "        print(f'Logged in as {client.user}')\n",
    "\n",
    "        # Get the channel object for the test channel\n",
    "        test_channel = client.get_channel('your ID') # Replace with the actual channel ID\n",
    "\n",
    "        # Open the image file and create a discord.File object\n",
    "        with open('savedimage.jpg', 'rb') as f:\n",
    "            image = discord.File(f)\n",
    "\n",
    "        # Send the image to the test channel\n",
    "        try:\n",
    "            await test_channel.send(file=image)\n",
    "            print('Image sent to test channel successfully')\n",
    "        except:\n",
    "            print(f'Failed to send image to test channel {test_channel.name}')\n",
    "\n",
    "        # Close the client connection\n",
    "        async with client:\n",
    "            print('Client connection closed successfully')\n",
    "    client.run('your ID')\n",
    "    call_phone()\n",
    "    play_sound('called.mp3')"
   ]
  },
  {
   "cell_type": "code",
   "execution_count": null,
   "metadata": {},
   "outputs": [],
   "source": [
    "#text\n",
    "text = get_text(\"user_control/your_need.txt\") # for input in text\n",
    "send = chatbot(reachy_action,text,\"text\")\n",
    "if send:\n",
    "    img = reachy.right_camera.last_frame\n",
    "    cv.imwrite('savedimage.jpg', img) \n",
    "    nest_asyncio.apply()\n",
    "    intents = discord.Intents.default()\n",
    "    intents.members = True\n",
    "    client = discord.Client(intents=intents)\n",
    "\n",
    "    @client.event\n",
    "    async def on_ready():\n",
    "        print(f'Logged in as {client.user}')\n",
    "\n",
    "        # Get the channel object for the test channel\n",
    "        test_channel = client.get_channel('your ID') # Replace with the actual channel ID\n",
    "\n",
    "        # Open the image file and create a discord.File object\n",
    "        with open('savedimage.jpg', 'rb') as f:\n",
    "            image = discord.File(f)\n",
    "\n",
    "        # Send the image to the test channel\n",
    "        try:\n",
    "            await test_channel.send(file=image)\n",
    "            print('Image sent to test channel successfully')\n",
    "        except:\n",
    "            print(f'Failed to send image to test channel {test_channel.name}')\n",
    "\n",
    "        # Close the client connection\n",
    "        async with client:\n",
    "            print('Client connection closed successfully')\n",
    "    client.run('your ID')\n",
    "    call_phone()\n",
    "    play_sound('called.mp3')"
   ]
  }
 ],
 "metadata": {
  "kernelspec": {
   "display_name": "Python 3",
   "language": "python",
   "name": "python3"
  },
  "language_info": {
   "codemirror_mode": {
    "name": "ipython",
    "version": 3
   },
   "file_extension": ".py",
   "mimetype": "text/x-python",
   "name": "python",
   "nbconvert_exporter": "python",
   "pygments_lexer": "ipython3",
   "version": "3.8.10"
  },
  "orig_nbformat": 4,
  "vscode": {
   "interpreter": {
    "hash": "92d2a24c0a21d7f219e96c5f68ce7177fd56032b98f854a2f254e41c2510e85b"
   }
  }
 },
 "nbformat": 4,
 "nbformat_minor": 2
}
