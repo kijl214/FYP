{
 "cells": [
  {
   "cell_type": "code",
   "execution_count": 1,
   "metadata": {},
   "outputs": [],
   "source": [
    "from reachy_sdk import ReachySDK\n",
    "from reachy_sdk.trajectory import goto\n",
    "from reachy_sdk.trajectory import InterpolationMode\n",
    "import time\n",
    "import cv2 as cv\n",
    "import numpy as np\n",
    "from threading import Thread\n",
    "from pathlib import Path\n",
    "import requests\n",
    "import pandas as pd\n",
    "import winsound"
   ]
  },
  {
   "cell_type": "code",
   "execution_count": 2,
   "metadata": {},
   "outputs": [],
   "source": [
    "def get_ip(location:str):\n",
    "    file = Path(location).absolute()\n",
    "    with file.open('r') as f:\n",
    "        ip = f.readlines()\n",
    "    return ip[0]"
   ]
  },
  {
   "cell_type": "code",
   "execution_count": 6,
   "metadata": {},
   "outputs": [],
   "source": [
    "def record(file_name, action_time):\n",
    "    winsound.Beep(1000,1000)\n",
    "    sampling_frequency = 100  # in Hz\n",
    "    record_duration = action_time  # in sec.\n",
    "    #record\n",
    "    trajectories_right = []\n",
    "    trajectories_left = []\n",
    "    start = time.time()\n",
    "    while (time.time() - start) < record_duration:\n",
    "        # We here get the present position for all of recorded joints\n",
    "        current_point_right = [joint.present_position for joint in recorded_joints_right]\n",
    "        current_point_left = [joint.present_position for joint in recorded_joints_left]\n",
    "\n",
    "        # Add this point to the already recorded trajectories\n",
    "        trajectories_right.append(current_point_right)\n",
    "        trajectories_left.append(current_point_left)\n",
    "\n",
    "        time.sleep(1 / sampling_frequency)\n",
    "\n",
    "    path = f'action/{file_name}_right.txt'\n",
    "    f = open(path, 'w')\n",
    "    f.writelines(str(trajectories_right))\n",
    "    f.close()\n",
    "\n",
    "    path = f'action/{file_name}_left.txt'\n",
    "    f = open(path, 'w')\n",
    "    f.writelines(str(trajectories_left))\n",
    "    f.close()"
   ]
  },
  {
   "cell_type": "code",
   "execution_count": 7,
   "metadata": {},
   "outputs": [],
   "source": [
    "def get_data(location:str):\n",
    "    file = Path(location).absolute()\n",
    "    with file.open('r') as f:\n",
    "        data = f.readlines()\n",
    "    return eval(data[0])"
   ]
  },
  {
   "cell_type": "code",
   "execution_count": null,
   "metadata": {},
   "outputs": [],
   "source": [
    "def read_reachy_action(location:str):\n",
    "    f = open(location, \"r\",encoding=\"utf-8\")\n",
    "    data = f.readline()\n",
    "    return eval(data)"
   ]
  },
  {
   "cell_type": "code",
   "execution_count": null,
   "metadata": {},
   "outputs": [],
   "source": [
    "reachy_ip = get_ip(\"reachy_ip.txt\")\n",
    "reachy = ReachySDK(host=reachy_ip)\n",
    "recorded_joints_right = [\n",
    "    reachy.r_arm.r_shoulder_pitch,\n",
    "    reachy.r_arm.r_shoulder_roll,\n",
    "    reachy.r_arm.r_arm_yaw,\n",
    "    reachy.r_arm.r_elbow_pitch,\n",
    "    reachy.r_arm.r_forearm_yaw,\n",
    "    reachy.r_arm.r_wrist_pitch,\n",
    "    reachy.r_arm.r_wrist_roll,\n",
    "    reachy.r_arm.r_gripper,\n",
    "]\n",
    "\n",
    "recorded_joints_left = [\n",
    "    reachy.l_arm.l_shoulder_pitch,\n",
    "    reachy.l_arm.l_shoulder_roll,\n",
    "    reachy.l_arm.l_arm_yaw,\n",
    "    reachy.l_arm.l_elbow_pitch,\n",
    "    reachy.l_arm.l_forearm_yaw,\n",
    "    reachy.l_arm.l_wrist_pitch,\n",
    "    reachy.l_arm.l_wrist_roll,\n",
    "    reachy.l_arm.l_gripper,\n",
    "]"
   ]
  },
  {
   "cell_type": "code",
   "execution_count": 8,
   "metadata": {},
   "outputs": [],
   "source": [
    "#read csv file\n",
    "#df = pd.read_csv('User_use.csv')\n",
    "#data = list(df.values[0])\n",
    "\n",
    "data = get_data('User_use.txt')"
   ]
  },
  {
   "cell_type": "code",
   "execution_count": null,
   "metadata": {},
   "outputs": [],
   "source": [
    "data"
   ]
  },
  {
   "cell_type": "code",
   "execution_count": 24,
   "metadata": {},
   "outputs": [],
   "source": [
    "reachy_action = read_reachy_action(\"reachy_action.txt\")\n",
    "reachy_action.append(data)"
   ]
  },
  {
   "cell_type": "code",
   "execution_count": 25,
   "metadata": {},
   "outputs": [],
   "source": [
    "path = 'reachy_action.txt'\n",
    "f = open(path, 'w')\n",
    "f.writelines(str(reachy_action))\n",
    "f.close()"
   ]
  },
  {
   "cell_type": "code",
   "execution_count": 12,
   "metadata": {},
   "outputs": [],
   "source": [
    "record(data[0],data[1])"
   ]
  },
  {
   "cell_type": "code",
   "execution_count": 11,
   "metadata": {},
   "outputs": [],
   "source": [
    "reachy.turn_off_smoothly('r_arm')\n",
    "reachy.turn_off_smoothly('l_arm')"
   ]
  }
 ],
 "metadata": {
  "kernelspec": {
   "display_name": "Python 3",
   "language": "python",
   "name": "python3"
  },
  "language_info": {
   "codemirror_mode": {
    "name": "ipython",
    "version": 3
   },
   "file_extension": ".py",
   "mimetype": "text/x-python",
   "name": "python",
   "nbconvert_exporter": "python",
   "pygments_lexer": "ipython3",
   "version": "3.8.10"
  },
  "orig_nbformat": 4
 },
 "nbformat": 4,
 "nbformat_minor": 2
}
